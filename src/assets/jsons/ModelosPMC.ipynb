{
 "cells": [
  {
   "cell_type": "markdown",
   "metadata": {},
   "source": [
    "# Modelo Recomendación - ChainU"
   ]
  },
  {
   "cell_type": "code",
   "execution_count": 209,
   "metadata": {},
   "outputs": [],
   "source": [
    "import pandas as pd\n",
    "import numpy"
   ]
  },
  {
   "cell_type": "code",
   "execution_count": 210,
   "metadata": {},
   "outputs": [],
   "source": [
    "class Empresa:\n",
    "    def __init__(self, nit, nombre, region, ciudad, sector, ciu, ingresos):\n",
    "        self.nit = nit\n",
    "        self.nombre = nombre\n",
    "        self.region = region\n",
    "        self.ciudad = ciudad\n",
    "        self.sector = sector\n",
    "        self.ciu = ciu\n",
    "        self.ingresos = ingresos"
   ]
  },
  {
   "cell_type": "code",
   "execution_count": 211,
   "metadata": {},
   "outputs": [],
   "source": [
    "class Contrato:\n",
    "    def __init__(self, titulo, empresa, descripcion, requisitos, sector, precio, ruta):\n",
    "        self.ruta = ruta\n",
    "        self.titulo = titulo\n",
    "        self.empresa = empresa\n",
    "        self.descripcion = descripcion\n",
    "        self.requisitos = requisitos\n",
    "        self.sector = sector\n",
    "        self.precio = precio"
   ]
  },
  {
   "cell_type": "code",
   "execution_count": 212,
   "metadata": {},
   "outputs": [],
   "source": [
    "# Leer datos\n",
    "datosP = pd.read_excel(\"Datos.xlsm\", sheet_name=\"PYMES\")\n",
    "datosG = pd.read_excel(\"Datos.xlsm\", sheet_name=\"GrandesEmpresas\")\n",
    "datosC = pd.read_excel(\"Datos.xlsm\", sheet_name=\"Contratos\")"
   ]
  },
  {
   "cell_type": "code",
   "execution_count": 213,
   "metadata": {},
   "outputs": [],
   "source": [
    "# Crear la lista de empresas\n",
    "listaEmpG = []\n",
    "listaEmpP = []\n",
    "listaCont = []\n",
    "for i in range(len(datosG)):\n",
    "    e = Empresa(datosG.iloc[i,0], datosG.iloc[i,1], datosG.iloc[i,2], datosG.iloc[i,3], datosG.iloc[i,4], datosG.iloc[i,5], datosG.iloc[i,6])\n",
    "    listaEmpG.append(e)\n",
    "\n",
    "for i in range(len(datosP)):\n",
    "    e = Empresa(datosP.iloc[i,0], datosP.iloc[i,1], datosP.iloc[i,2], datosP.iloc[i,3], datosP.iloc[i,4], datosP.iloc[i,5], datosP.iloc[i,6])\n",
    "    listaEmpP.append(e)\n",
    "    \n",
    "for i in range(len(datosC)):\n",
    "    e = Contrato(datosC.iloc[i,0], datosC.iloc[i,1], datosC.iloc[i,2], datosC.iloc[i,3], datosC.iloc[i,4], datosC.iloc[i,5], datosC.iloc[i,6])\n",
    "    listaCont.append(e)"
   ]
  },
  {
   "cell_type": "code",
   "execution_count": 214,
   "metadata": {
    "scrolled": true
   },
   "outputs": [
    {
     "data": {
      "text/plain": [
       "'N7820 - Actividades de agencias de empleo temporal'"
      ]
     },
     "execution_count": 214,
     "metadata": {},
     "output_type": "execute_result"
    }
   ],
   "source": [
    "listaEmpP[0].ciu"
   ]
  },
  {
   "cell_type": "code",
   "execution_count": 215,
   "metadata": {},
   "outputs": [
    {
     "data": {
      "text/plain": [
       "'Empresa pequeña con conocimiento financiero y de pago seguro'"
      ]
     },
     "execution_count": 215,
     "metadata": {},
     "output_type": "execute_result"
    }
   ],
   "source": [
    "listaCont[0].requisitos"
   ]
  },
  {
   "cell_type": "markdown",
   "metadata": {},
   "source": [
    "## Clustering"
   ]
  },
  {
   "cell_type": "code",
   "execution_count": 216,
   "metadata": {},
   "outputs": [],
   "source": [
    "from sklearn.cluster import KMeans\n",
    "from adspy_shared_utilities import plot_labelled_scatter\n",
    "from matplotlib.colors import ListedColormap, BoundaryNorm\n",
    "import matplotlib.pyplot as plt\n",
    "import matplotlib.patches as mpatches"
   ]
  },
  {
   "cell_type": "code",
   "execution_count": 217,
   "metadata": {},
   "outputs": [],
   "source": [
    "# Alistar los datos\n",
    "listaCol = [\"DEPARTAMENTO\", \"MACROSECTOR\", \"CIIU\"]\n",
    "datosP_1 = datosP[listaCol]\n",
    "datosG_1 = datosG[listaCol]"
   ]
  },
  {
   "cell_type": "code",
   "execution_count": 218,
   "metadata": {},
   "outputs": [],
   "source": [
    "# Crear dummies\n",
    "datosG_dumm = pd.get_dummies(datosG_1)\n",
    "datosP_dumm = pd.get_dummies(datosP_1)"
   ]
  },
  {
   "cell_type": "code",
   "execution_count": 219,
   "metadata": {
    "scrolled": false
   },
   "outputs": [
    {
     "data": {
      "text/html": [
       "<div>\n",
       "<style scoped>\n",
       "    .dataframe tbody tr th:only-of-type {\n",
       "        vertical-align: middle;\n",
       "    }\n",
       "\n",
       "    .dataframe tbody tr th {\n",
       "        vertical-align: top;\n",
       "    }\n",
       "\n",
       "    .dataframe thead th {\n",
       "        text-align: right;\n",
       "    }\n",
       "</style>\n",
       "<table border=\"1\" class=\"dataframe\">\n",
       "  <thead>\n",
       "    <tr style=\"text-align: right;\">\n",
       "      <th></th>\n",
       "      <th>CIIU</th>\n",
       "      <th>DEPARTAMENTO_AMAZONAS</th>\n",
       "      <th>DEPARTAMENTO_ANTIOQUIA</th>\n",
       "      <th>DEPARTAMENTO_ATLANTICO</th>\n",
       "      <th>DEPARTAMENTO_BOGOTA D.C.</th>\n",
       "      <th>DEPARTAMENTO_BOLIVAR</th>\n",
       "      <th>DEPARTAMENTO_BOLIVAR</th>\n",
       "      <th>DEPARTAMENTO_BOYACA</th>\n",
       "      <th>DEPARTAMENTO_CALDAS</th>\n",
       "      <th>DEPARTAMENTO_CALDAS</th>\n",
       "      <th>...</th>\n",
       "      <th>DEPARTAMENTO_SUCRE</th>\n",
       "      <th>DEPARTAMENTO_TOLIMA</th>\n",
       "      <th>DEPARTAMENTO_VALLE</th>\n",
       "      <th>DEPARTAMENTO_VALLE</th>\n",
       "      <th>MACROSECTOR_AGROPECUARIO</th>\n",
       "      <th>MACROSECTOR_COMERCIO</th>\n",
       "      <th>MACROSECTOR_CONSTRUCCIÓN</th>\n",
       "      <th>MACROSECTOR_MANUFACTURA</th>\n",
       "      <th>MACROSECTOR_MINERO-HIDROCARBUROS</th>\n",
       "      <th>MACROSECTOR_SERVICIOS</th>\n",
       "    </tr>\n",
       "  </thead>\n",
       "  <tbody>\n",
       "    <tr>\n",
       "      <td>0</td>\n",
       "      <td>34</td>\n",
       "      <td>0</td>\n",
       "      <td>0</td>\n",
       "      <td>0</td>\n",
       "      <td>1</td>\n",
       "      <td>0</td>\n",
       "      <td>0</td>\n",
       "      <td>0</td>\n",
       "      <td>0</td>\n",
       "      <td>0</td>\n",
       "      <td>...</td>\n",
       "      <td>0</td>\n",
       "      <td>0</td>\n",
       "      <td>0</td>\n",
       "      <td>0</td>\n",
       "      <td>0</td>\n",
       "      <td>0</td>\n",
       "      <td>0</td>\n",
       "      <td>0</td>\n",
       "      <td>1</td>\n",
       "      <td>0</td>\n",
       "    </tr>\n",
       "    <tr>\n",
       "      <td>1</td>\n",
       "      <td>225</td>\n",
       "      <td>0</td>\n",
       "      <td>0</td>\n",
       "      <td>0</td>\n",
       "      <td>1</td>\n",
       "      <td>0</td>\n",
       "      <td>0</td>\n",
       "      <td>0</td>\n",
       "      <td>0</td>\n",
       "      <td>0</td>\n",
       "      <td>...</td>\n",
       "      <td>0</td>\n",
       "      <td>0</td>\n",
       "      <td>0</td>\n",
       "      <td>0</td>\n",
       "      <td>0</td>\n",
       "      <td>1</td>\n",
       "      <td>0</td>\n",
       "      <td>0</td>\n",
       "      <td>0</td>\n",
       "      <td>0</td>\n",
       "    </tr>\n",
       "    <tr>\n",
       "      <td>2</td>\n",
       "      <td>98</td>\n",
       "      <td>0</td>\n",
       "      <td>0</td>\n",
       "      <td>0</td>\n",
       "      <td>0</td>\n",
       "      <td>1</td>\n",
       "      <td>0</td>\n",
       "      <td>0</td>\n",
       "      <td>0</td>\n",
       "      <td>0</td>\n",
       "      <td>...</td>\n",
       "      <td>0</td>\n",
       "      <td>0</td>\n",
       "      <td>0</td>\n",
       "      <td>0</td>\n",
       "      <td>0</td>\n",
       "      <td>0</td>\n",
       "      <td>0</td>\n",
       "      <td>1</td>\n",
       "      <td>0</td>\n",
       "      <td>0</td>\n",
       "    </tr>\n",
       "    <tr>\n",
       "      <td>3</td>\n",
       "      <td>232</td>\n",
       "      <td>0</td>\n",
       "      <td>1</td>\n",
       "      <td>0</td>\n",
       "      <td>0</td>\n",
       "      <td>0</td>\n",
       "      <td>0</td>\n",
       "      <td>0</td>\n",
       "      <td>0</td>\n",
       "      <td>0</td>\n",
       "      <td>...</td>\n",
       "      <td>0</td>\n",
       "      <td>0</td>\n",
       "      <td>0</td>\n",
       "      <td>0</td>\n",
       "      <td>0</td>\n",
       "      <td>1</td>\n",
       "      <td>0</td>\n",
       "      <td>0</td>\n",
       "      <td>0</td>\n",
       "      <td>0</td>\n",
       "    </tr>\n",
       "    <tr>\n",
       "      <td>4</td>\n",
       "      <td>183</td>\n",
       "      <td>0</td>\n",
       "      <td>1</td>\n",
       "      <td>0</td>\n",
       "      <td>0</td>\n",
       "      <td>0</td>\n",
       "      <td>0</td>\n",
       "      <td>0</td>\n",
       "      <td>0</td>\n",
       "      <td>0</td>\n",
       "      <td>...</td>\n",
       "      <td>0</td>\n",
       "      <td>0</td>\n",
       "      <td>0</td>\n",
       "      <td>0</td>\n",
       "      <td>0</td>\n",
       "      <td>0</td>\n",
       "      <td>0</td>\n",
       "      <td>0</td>\n",
       "      <td>0</td>\n",
       "      <td>1</td>\n",
       "    </tr>\n",
       "    <tr>\n",
       "      <td>...</td>\n",
       "      <td>...</td>\n",
       "      <td>...</td>\n",
       "      <td>...</td>\n",
       "      <td>...</td>\n",
       "      <td>...</td>\n",
       "      <td>...</td>\n",
       "      <td>...</td>\n",
       "      <td>...</td>\n",
       "      <td>...</td>\n",
       "      <td>...</td>\n",
       "      <td>...</td>\n",
       "      <td>...</td>\n",
       "      <td>...</td>\n",
       "      <td>...</td>\n",
       "      <td>...</td>\n",
       "      <td>...</td>\n",
       "      <td>...</td>\n",
       "      <td>...</td>\n",
       "      <td>...</td>\n",
       "      <td>...</td>\n",
       "      <td>...</td>\n",
       "    </tr>\n",
       "    <tr>\n",
       "      <td>995</td>\n",
       "      <td>396</td>\n",
       "      <td>0</td>\n",
       "      <td>0</td>\n",
       "      <td>0</td>\n",
       "      <td>1</td>\n",
       "      <td>0</td>\n",
       "      <td>0</td>\n",
       "      <td>0</td>\n",
       "      <td>0</td>\n",
       "      <td>0</td>\n",
       "      <td>...</td>\n",
       "      <td>0</td>\n",
       "      <td>0</td>\n",
       "      <td>0</td>\n",
       "      <td>0</td>\n",
       "      <td>0</td>\n",
       "      <td>0</td>\n",
       "      <td>0</td>\n",
       "      <td>0</td>\n",
       "      <td>0</td>\n",
       "      <td>1</td>\n",
       "    </tr>\n",
       "    <tr>\n",
       "      <td>996</td>\n",
       "      <td>112</td>\n",
       "      <td>1</td>\n",
       "      <td>0</td>\n",
       "      <td>0</td>\n",
       "      <td>0</td>\n",
       "      <td>0</td>\n",
       "      <td>0</td>\n",
       "      <td>0</td>\n",
       "      <td>0</td>\n",
       "      <td>0</td>\n",
       "      <td>...</td>\n",
       "      <td>0</td>\n",
       "      <td>0</td>\n",
       "      <td>0</td>\n",
       "      <td>0</td>\n",
       "      <td>0</td>\n",
       "      <td>0</td>\n",
       "      <td>0</td>\n",
       "      <td>1</td>\n",
       "      <td>0</td>\n",
       "      <td>0</td>\n",
       "    </tr>\n",
       "    <tr>\n",
       "      <td>997</td>\n",
       "      <td>34</td>\n",
       "      <td>0</td>\n",
       "      <td>0</td>\n",
       "      <td>0</td>\n",
       "      <td>1</td>\n",
       "      <td>0</td>\n",
       "      <td>0</td>\n",
       "      <td>0</td>\n",
       "      <td>0</td>\n",
       "      <td>0</td>\n",
       "      <td>...</td>\n",
       "      <td>0</td>\n",
       "      <td>0</td>\n",
       "      <td>0</td>\n",
       "      <td>0</td>\n",
       "      <td>0</td>\n",
       "      <td>0</td>\n",
       "      <td>0</td>\n",
       "      <td>0</td>\n",
       "      <td>1</td>\n",
       "      <td>0</td>\n",
       "    </tr>\n",
       "    <tr>\n",
       "      <td>998</td>\n",
       "      <td>206</td>\n",
       "      <td>0</td>\n",
       "      <td>1</td>\n",
       "      <td>0</td>\n",
       "      <td>0</td>\n",
       "      <td>0</td>\n",
       "      <td>0</td>\n",
       "      <td>0</td>\n",
       "      <td>0</td>\n",
       "      <td>0</td>\n",
       "      <td>...</td>\n",
       "      <td>0</td>\n",
       "      <td>0</td>\n",
       "      <td>0</td>\n",
       "      <td>0</td>\n",
       "      <td>0</td>\n",
       "      <td>1</td>\n",
       "      <td>0</td>\n",
       "      <td>0</td>\n",
       "      <td>0</td>\n",
       "      <td>0</td>\n",
       "    </tr>\n",
       "    <tr>\n",
       "      <td>999</td>\n",
       "      <td>48</td>\n",
       "      <td>0</td>\n",
       "      <td>0</td>\n",
       "      <td>0</td>\n",
       "      <td>0</td>\n",
       "      <td>0</td>\n",
       "      <td>0</td>\n",
       "      <td>0</td>\n",
       "      <td>0</td>\n",
       "      <td>0</td>\n",
       "      <td>...</td>\n",
       "      <td>0</td>\n",
       "      <td>0</td>\n",
       "      <td>0</td>\n",
       "      <td>0</td>\n",
       "      <td>0</td>\n",
       "      <td>0</td>\n",
       "      <td>0</td>\n",
       "      <td>1</td>\n",
       "      <td>0</td>\n",
       "      <td>0</td>\n",
       "    </tr>\n",
       "  </tbody>\n",
       "</table>\n",
       "<p>1000 rows × 39 columns</p>\n",
       "</div>"
      ],
      "text/plain": [
       "     CIIU  DEPARTAMENTO_AMAZONAS  DEPARTAMENTO_ANTIOQUIA  \\\n",
       "0      34                      0                       0   \n",
       "1     225                      0                       0   \n",
       "2      98                      0                       0   \n",
       "3     232                      0                       1   \n",
       "4     183                      0                       1   \n",
       "..    ...                    ...                     ...   \n",
       "995   396                      0                       0   \n",
       "996   112                      1                       0   \n",
       "997    34                      0                       0   \n",
       "998   206                      0                       1   \n",
       "999    48                      0                       0   \n",
       "\n",
       "     DEPARTAMENTO_ATLANTICO  DEPARTAMENTO_BOGOTA D.C.  DEPARTAMENTO_BOLIVAR  \\\n",
       "0                         0                         1                     0   \n",
       "1                         0                         1                     0   \n",
       "2                         0                         0                     1   \n",
       "3                         0                         0                     0   \n",
       "4                         0                         0                     0   \n",
       "..                      ...                       ...                   ...   \n",
       "995                       0                         1                     0   \n",
       "996                       0                         0                     0   \n",
       "997                       0                         1                     0   \n",
       "998                       0                         0                     0   \n",
       "999                       0                         0                     0   \n",
       "\n",
       "     DEPARTAMENTO_BOLIVAR   DEPARTAMENTO_BOYACA  DEPARTAMENTO_CALDAS  \\\n",
       "0                        0                    0                    0   \n",
       "1                        0                    0                    0   \n",
       "2                        0                    0                    0   \n",
       "3                        0                    0                    0   \n",
       "4                        0                    0                    0   \n",
       "..                     ...                  ...                  ...   \n",
       "995                      0                    0                    0   \n",
       "996                      0                    0                    0   \n",
       "997                      0                    0                    0   \n",
       "998                      0                    0                    0   \n",
       "999                      0                    0                    0   \n",
       "\n",
       "     DEPARTAMENTO_CALDAS   ...  DEPARTAMENTO_SUCRE  DEPARTAMENTO_TOLIMA  \\\n",
       "0                       0  ...                   0                    0   \n",
       "1                       0  ...                   0                    0   \n",
       "2                       0  ...                   0                    0   \n",
       "3                       0  ...                   0                    0   \n",
       "4                       0  ...                   0                    0   \n",
       "..                    ...  ...                 ...                  ...   \n",
       "995                     0  ...                   0                    0   \n",
       "996                     0  ...                   0                    0   \n",
       "997                     0  ...                   0                    0   \n",
       "998                     0  ...                   0                    0   \n",
       "999                     0  ...                   0                    0   \n",
       "\n",
       "     DEPARTAMENTO_VALLE  DEPARTAMENTO_VALLE   MACROSECTOR_AGROPECUARIO  \\\n",
       "0                     0                    0                         0   \n",
       "1                     0                    0                         0   \n",
       "2                     0                    0                         0   \n",
       "3                     0                    0                         0   \n",
       "4                     0                    0                         0   \n",
       "..                  ...                  ...                       ...   \n",
       "995                   0                    0                         0   \n",
       "996                   0                    0                         0   \n",
       "997                   0                    0                         0   \n",
       "998                   0                    0                         0   \n",
       "999                   0                    0                         0   \n",
       "\n",
       "     MACROSECTOR_COMERCIO  MACROSECTOR_CONSTRUCCIÓN  MACROSECTOR_MANUFACTURA  \\\n",
       "0                       0                         0                        0   \n",
       "1                       1                         0                        0   \n",
       "2                       0                         0                        1   \n",
       "3                       1                         0                        0   \n",
       "4                       0                         0                        0   \n",
       "..                    ...                       ...                      ...   \n",
       "995                     0                         0                        0   \n",
       "996                     0                         0                        1   \n",
       "997                     0                         0                        0   \n",
       "998                     1                         0                        0   \n",
       "999                     0                         0                        1   \n",
       "\n",
       "     MACROSECTOR_MINERO-HIDROCARBUROS  MACROSECTOR_SERVICIOS  \n",
       "0                                   1                      0  \n",
       "1                                   0                      0  \n",
       "2                                   0                      0  \n",
       "3                                   0                      0  \n",
       "4                                   0                      1  \n",
       "..                                ...                    ...  \n",
       "995                                 0                      1  \n",
       "996                                 0                      0  \n",
       "997                                 1                      0  \n",
       "998                                 0                      0  \n",
       "999                                 0                      0  \n",
       "\n",
       "[1000 rows x 39 columns]"
      ]
     },
     "execution_count": 219,
     "metadata": {},
     "output_type": "execute_result"
    }
   ],
   "source": [
    "datosG_dumm"
   ]
  },
  {
   "cell_type": "code",
   "execution_count": 272,
   "metadata": {
    "scrolled": false
   },
   "outputs": [
    {
     "data": {
      "text/plain": [
       "KMeans(algorithm='auto', copy_x=True, init='k-means++', max_iter=300,\n",
       "       n_clusters=5, n_init=10, n_jobs=None, precompute_distances='auto',\n",
       "       random_state=None, tol=0.0001, verbose=0)"
      ]
     },
     "execution_count": 272,
     "metadata": {},
     "output_type": "execute_result"
    }
   ],
   "source": [
    "kmeans = KMeans(n_clusters = 5)\n",
    "kmeans.fit(datosG_dumm)\n",
    "\n",
    "#plot_labelled_scatter(datosP_dumm, kmeans.labels_, ['Cluster 1', 'Cluster 2', 'Cluster 3'])"
   ]
  },
  {
   "cell_type": "code",
   "execution_count": 241,
   "metadata": {},
   "outputs": [
    {
     "name": "stdout",
     "output_type": "stream",
     "text": [
      "{'nit': 890922487, 'nombre': 'Assist You', 'departamento': 'Antioquia', 'ciudad': 'Medellín', 'macroSector': 'Servicios', 'ciiu': '7', 'ingresosOperacionales': 134350848}\n"
     ]
    }
   ],
   "source": [
    "with open('InfoEmpresas.json', encoding='utf-8') as fh:\n",
    "    datosEmp = json.load(fh)\n",
    "\n",
    "print(datosEmp)"
   ]
  },
  {
   "cell_type": "code",
   "execution_count": 242,
   "metadata": {},
   "outputs": [],
   "source": [
    "index = 0\n",
    "for i in range(len(listaEmpP)):\n",
    "    e = listaEmpP[i]\n",
    "    if datosEmp[\"nit\"] == e.nit:\n",
    "        index = i\n",
    "        break"
   ]
  },
  {
   "cell_type": "code",
   "execution_count": 243,
   "metadata": {
    "scrolled": true
   },
   "outputs": [
    {
     "data": {
      "text/plain": [
       "890922487"
      ]
     },
     "execution_count": 243,
     "metadata": {},
     "output_type": "execute_result"
    }
   ],
   "source": [
    "e.nit"
   ]
  },
  {
   "cell_type": "code",
   "execution_count": 244,
   "metadata": {},
   "outputs": [],
   "source": [
    "punto = datosP_dumm.iloc[index:index+1]"
   ]
  },
  {
   "cell_type": "code",
   "execution_count": 245,
   "metadata": {
    "scrolled": true
   },
   "outputs": [],
   "source": [
    "predG = kmeans.predict(datosG_dumm)\n",
    "predEsp = kmeans.predict(punto)"
   ]
  },
  {
   "cell_type": "code",
   "execution_count": 246,
   "metadata": {},
   "outputs": [],
   "source": [
    "listaCoin = []\n",
    "listaIndex = []\n",
    "for i in range(len(predG)):\n",
    "    if predG[i] == predEsp:\n",
    "        listaIndex.append(i)\n",
    "        listaCoin.append(listaEmpG[i])"
   ]
  },
  {
   "cell_type": "code",
   "execution_count": 247,
   "metadata": {
    "scrolled": false
   },
   "outputs": [
    {
     "data": {
      "text/plain": [
       "'GESTORA ADMINEGOCIOS Y CIA S EN C'"
      ]
     },
     "execution_count": 247,
     "metadata": {},
     "output_type": "execute_result"
    }
   ],
   "source": [
    "listaCoin[0].nombre"
   ]
  },
  {
   "cell_type": "code",
   "execution_count": 248,
   "metadata": {},
   "outputs": [
    {
     "data": {
      "text/plain": [
       "'ADMINEGOCIOS SAS'"
      ]
     },
     "execution_count": 248,
     "metadata": {},
     "output_type": "execute_result"
    }
   ],
   "source": [
    "listaIndex[0]\n",
    "listaEmpG[70].nombre"
   ]
  },
  {
   "cell_type": "code",
   "execution_count": 249,
   "metadata": {},
   "outputs": [],
   "source": [
    "listaF = []\n",
    "for i in range(5):\n",
    "    index = listaIndex[i]\n",
    "    c = listaCont[index*6]\n",
    "    listaF.append(c)"
   ]
  },
  {
   "cell_type": "code",
   "execution_count": 250,
   "metadata": {},
   "outputs": [
    {
     "data": {
      "text/plain": [
       "[{'titulo': 'Automatizacion',\n",
       "  'empresa': 'GESTORA ADMINEGOCIOS Y CIA S EN C',\n",
       "  'valor': '2500000',\n",
       "  'requisitos': 'Empresa pequeña o mediana con conocimiento de Cloud Computing',\n",
       "  'descripcion': 'Se busca empresa pequeña o mediana para apoyar automatizacion de procesos',\n",
       "  'sector': 'Tecnologico',\n",
       "  'rutaImagen': 'GESTORA ADMINEGOCIOS Y CIA S EN C.png',\n",
       "  'fechaPubl': '2/05/2021'},\n",
       " {'titulo': 'Distribucion',\n",
       "  'empresa': 'COMPENSAR',\n",
       "  'valor': '10000000',\n",
       "  'requisitos': 'Empresa mediana con mas de 3 años en el mercado',\n",
       "  'descripcion': 'Se busca empresa mediana para llevar a cabo temas de distribucion',\n",
       "  'sector': 'Servicios',\n",
       "  'rutaImagen': 'COMPENSAR.png',\n",
       "  'fechaPubl': '2/05/2021'},\n",
       " {'titulo': 'Logistica',\n",
       "  'empresa': 'ADMINEGOCIOS SAS',\n",
       "  'valor': '15000000',\n",
       "  'requisitos': 'Empresa grande con conocimientos de distribucion',\n",
       "  'descripcion': 'Se busca empresa mediana para apoyar el area de logistica y operaciones',\n",
       "  'sector': 'Manufactura',\n",
       "  'rutaImagen': 'ADMINEGOCIOS SAS.png',\n",
       "  'fechaPubl': '2/05/2021'},\n",
       " {'titulo': 'Plataforma digital',\n",
       "  'empresa': 'Renting Colombia S.A.S',\n",
       "  'valor': '12500000',\n",
       "  'requisitos': 'Empresa pequeña con mas de 1 años en el mercado',\n",
       "  'descripcion': 'Se busca empresa pequeña para realizar una plataforma digital',\n",
       "  'sector': 'Tecnologico',\n",
       "  'rutaImagen': 'Renting Colombia S.A.S.png',\n",
       "  'fechaPubl': '2/05/2021'},\n",
       " {'titulo': 'Distribucion',\n",
       "  'empresa': 'THOMAS GREG & SONS LIMITED (GUERNSEY) S.A.',\n",
       "  'valor': '4000000',\n",
       "  'requisitos': 'Empresa mediana con mas de 3 años en el mercado',\n",
       "  'descripcion': 'Se busca empresa mediana para llevar a cabo temas de distribucion',\n",
       "  'sector': 'Servicios',\n",
       "  'rutaImagen': 'THOMAS GREG & SONS LIMITED (GUERNSEY) S.A..png',\n",
       "  'fechaPubl': '2/05/2021'}]"
      ]
     },
     "execution_count": 250,
     "metadata": {},
     "output_type": "execute_result"
    }
   ],
   "source": [
    "data = []\n",
    "for j in range(5):\n",
    "    dic = {}\n",
    "    c = listaF[j]\n",
    "    dic[\"titulo\"] = c.titulo\n",
    "    dic[\"empresa\"] = c.empresa\n",
    "    dic[\"valor\"] = str(c.precio)\n",
    "    dic[\"requisitos\"] = c.requisitos\n",
    "    dic[\"descripcion\"] = c.descripcion\n",
    "    dic[\"sector\"] = c.sector\n",
    "    dic[\"rutaImagen\"] = c.ruta\n",
    "    dic[\"fechaPubl\"] = \"2/05/2021\"\n",
    "    data.append(dic)\n",
    "\n",
    "data"
   ]
  },
  {
   "cell_type": "code",
   "execution_count": 251,
   "metadata": {},
   "outputs": [],
   "source": [
    "import json\n",
    "with open(\"data.json\", \"w\", encoding='utf8') as outfile:\n",
    "    json.dump(data, outfile, ensure_ascii=False)"
   ]
  },
  {
   "cell_type": "code",
   "execution_count": 252,
   "metadata": {},
   "outputs": [],
   "source": [
    "from sklearn.preprocessing import StandardScaler\n",
    "from sklearn.manifold import MDS\n",
    "\n",
    "# each feature should be centered (zero mean) and with unit variance\n",
    "X_normalized = StandardScaler().fit(datosG_dumm).transform(datosG_dumm)  \n",
    "\n",
    "mds = MDS(n_components = 2)\n",
    "\n",
    "X_mds = mds.fit_transform(X_normalized)"
   ]
  },
  {
   "cell_type": "code",
   "execution_count": 262,
   "metadata": {},
   "outputs": [],
   "source": [
    "from sklearn.manifold import TSNE\n",
    "tsne = TSNE(random_state = 0)\n",
    "\n",
    "X_tsne = tsne.fit_transform(X_normalized)"
   ]
  },
  {
   "cell_type": "code",
   "execution_count": 266,
   "metadata": {},
   "outputs": [],
   "source": [
    "from sklearn.decomposition import PCA\n",
    "pca = PCA(n_components = 2).fit(X_normalized)\n",
    "X_pca = pca.transform(X_normalized)"
   ]
  },
  {
   "cell_type": "code",
   "execution_count": 280,
   "metadata": {
    "scrolled": true
   },
   "outputs": [
    {
     "data": {
      "text/plain": [
       "KMeans(algorithm='auto', copy_x=True, init='k-means++', max_iter=300,\n",
       "       n_clusters=5, n_init=10, n_jobs=None, precompute_distances='auto',\n",
       "       random_state=None, tol=0.0001, verbose=0)"
      ]
     },
     "execution_count": 280,
     "metadata": {},
     "output_type": "execute_result"
    }
   ],
   "source": [
    "kmeans = KMeans(n_clusters = 5)\n",
    "kmeans.fit(datosG_dumm)"
   ]
  },
  {
   "cell_type": "code",
   "execution_count": 310,
   "metadata": {},
   "outputs": [
    {
     "data": {
      "image/png": "[encoded data removed]",
      "text/plain": [
       "<Figure size 1080x648 with 1 Axes>"
      ]
     },
     "metadata": {
      "needs_background": "light"
     },
     "output_type": "display_data"
    }
   ],
   "source": [
    "X = X_tsne\n",
    "y=kmeans.labels_\n",
    "class_labels= ['1', '2', '3', '4', '5', '6','7','8','9', '10','11','12','13','14','15']\n",
    "\n",
    "\n",
    "num_labels = len(class_labels)-3\n",
    "\n",
    "x_min, x_max = X[:, 0].min() - 1, X[:, 0].max() + 1\n",
    "y_min, y_max = X[:, 1].min() - 1, X[:, 1].max() + 1\n",
    "\n",
    "marker_array = ['o', '^', '*']\n",
    "color_array = ['#FFFF00', '#00AAFF', '#000000', '#FF00AA']\n",
    "cmap_bold = ListedColormap(color_array)\n",
    "bnorm = BoundaryNorm(numpy.arange(0, num_labels + 1, 1), ncolors=num_labels)\n",
    "plt.figure(figsize=(15,9))\n",
    "\n",
    "plt.scatter(X[:, 0], X[:, 1], s=65, c=y, cmap=cmap_bold, norm = bnorm, alpha = 0.40, edgecolor='black', lw = 1)\n",
    "\n",
    "plt.title(\"Clustering Empresas -  ChainU\", fontsize=18, fontweight=\"bold\")\n",
    "plt.xlabel('Primer Componente Principal', fontsize=13)\n",
    "plt.ylabel('Segundo Componente Principal', fontsize=13)\n",
    "plt.xlim(x_min, x_max)\n",
    "plt.ylim(y_min, y_max)\n",
    "plt.axes().set_facecolor(\"oldlace\")\n",
    "\n",
    "\n",
    "plt.show()"
   ]
  },
  {
   "cell_type": "code",
   "execution_count": null,
   "metadata": {},
   "outputs": [],
   "source": []
  }
 ],
 "metadata": {
  "kernelspec": {
   "display_name": "Python 3",
   "language": "python",
   "name": "python3"
  },
  "language_info": {
   "codemirror_mode": {
    "name": "ipython",
    "version": 3
   },
   "file_extension": ".py",
   "mimetype": "text/x-python",
   "name": "python",
   "nbconvert_exporter": "python",
   "pygments_lexer": "ipython3",
   "version": "3.7.6"
  }
 },
 "nbformat": 4,
 "nbformat_minor": 2
}
